{
 "cells": [
  {
   "cell_type": "code",
   "execution_count": 22,
   "metadata": {},
   "outputs": [],
   "source": [
    "import scrapy"
   ]
  },
  {
   "cell_type": "code",
   "execution_count": 23,
   "metadata": {},
   "outputs": [],
   "source": [
    "class BooksSpider(scrapy.Spider):\n",
    "    # identify each spider\n",
    "    name = 'books'\n",
    "    # set the url\n",
    "    start_urls = ['http://books.toscrape.com/']"
   ]
  },
  {
   "cell_type": "code",
   "execution_count": 24,
   "metadata": {},
   "outputs": [],
   "source": [
    "    def parse(self, respone):\n",
    "            # retrieve data\n",
    "            # the information of each book are under the <article class='product_pod]'\n",
    "            # we are using css() to lookup all the article elements\n",
    "            for book in response.cass('article.product_pod'):\n",
    "                # books' names are under 'article>h3>a>title'\n",
    "                name = book.xpath('.h3/a/@title').extract_first()\n",
    "\n",
    "                # the price is under <p class='price_color'>\n",
    "                price = book.css('p.price_color::text').extract_first()\n",
    "                yield{\n",
    "                    'name': name,\n",
    "                    'price': price,\n",
    "                }\n",
    "                # retrieve the url\n",
    "                # the 'Next Page's url is under the ul.paper > li.next >a\n",
    "                next_url = response.css('ul.pager li.next a::attr(href)').extract_first()\n",
    "            if next_url:\n",
    "                # if find the next ulr, get the absolute path, establish the new request target\n",
    "                next_url = response.urljoin(next_url)\n",
    "                yield scrapy.Request(next_url, callback=self.parse)"
   ]
  },
  {
   "cell_type": "code",
   "execution_count": null,
   "metadata": {},
   "outputs": [],
   "source": []
  }
 ],
 "metadata": {
  "kernelspec": {
   "display_name": "Python 3",
   "language": "python",
   "name": "python3"
  },
  "language_info": {
   "codemirror_mode": {
    "name": "ipython",
    "version": 3
   },
   "file_extension": ".py",
   "mimetype": "text/x-python",
   "name": "python",
   "nbconvert_exporter": "python",
   "pygments_lexer": "ipython3",
   "version": "3.6.8"
  }
 },
 "nbformat": 4,
 "nbformat_minor": 2
}
